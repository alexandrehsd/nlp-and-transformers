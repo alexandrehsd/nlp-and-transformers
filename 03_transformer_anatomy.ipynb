{
  "nbformat": 4,
  "nbformat_minor": 0,
  "metadata": {
    "colab": {
      "provenance": [],
      "authorship_tag": "ABX9TyNaeUT5Q9AELusmVje+glS2",
      "include_colab_link": true
    },
    "kernelspec": {
      "name": "python3",
      "display_name": "Python 3"
    },
    "language_info": {
      "name": "python"
    }
  },
  "cells": [
    {
      "cell_type": "markdown",
      "metadata": {
        "id": "view-in-github",
        "colab_type": "text"
      },
      "source": [
        "<a href=\"https://colab.research.google.com/github/alexandrehsd/nlp-and-transformers/blob/main/03_transformer_anatomy.ipynb\" target=\"_parent\"><img src=\"https://colab.research.google.com/assets/colab-badge.svg\" alt=\"Open In Colab\"/></a>"
      ]
    },
    {
      "cell_type": "markdown",
      "source": [
        "# Transformer Anatomy"
      ],
      "metadata": {
        "id": "p_PIFRiHaucs"
      }
    },
    {
      "cell_type": "code",
      "source": [],
      "metadata": {
        "id": "-DQaxMInbAkn"
      },
      "execution_count": null,
      "outputs": []
    }
  ]
}