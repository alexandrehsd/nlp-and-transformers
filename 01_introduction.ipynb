{
  "cells": [
    {
      "cell_type": "markdown",
      "source": [
        "# Chapter 01 - Introduction"
      ],
      "metadata": {
        "id": "UhpEWeGNVo1v"
      }
    },
    {
      "cell_type": "code",
      "source": [],
      "metadata": {
        "id": "5JN2bJ5UV1p0"
      },
      "execution_count": null,
      "outputs": []
    }
  ],
  "metadata": {
    "kernelspec": {
      "display_name": "nlp",
      "language": "python",
      "name": "python3"
    },
    "language_info": {
      "name": "python",
      "version": "3.9.13"
    },
    "orig_nbformat": 4,
    "colab": {
      "provenance": []
    }
  },
  "nbformat": 4,
  "nbformat_minor": 0
}